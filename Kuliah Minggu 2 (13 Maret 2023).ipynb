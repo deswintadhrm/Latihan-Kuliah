{
 "cells": [
  {
   "cell_type": "markdown",
   "id": "51b42048",
   "metadata": {},
   "source": [
    "# 5.1 Print"
   ]
  },
  {
   "cell_type": "code",
   "execution_count": 1,
   "id": "4e468634",
   "metadata": {
    "scrolled": true
   },
   "outputs": [
    {
     "name": "stdout",
     "output_type": "stream",
     "text": [
      "Saya suka kwetiau\n"
     ]
    }
   ],
   "source": [
    "print('Saya suka kwetiau')"
   ]
  },
  {
   "cell_type": "code",
   "execution_count": 2,
   "id": "6e6b7620",
   "metadata": {},
   "outputs": [
    {
     "name": "stdout",
     "output_type": "stream",
     "text": [
      "Ini Kelas Algoritma\n"
     ]
    }
   ],
   "source": [
    "print('Ini Kelas Algoritma')"
   ]
  },
  {
   "cell_type": "code",
   "execution_count": null,
   "id": "7ab25f53",
   "metadata": {},
   "outputs": [],
   "source": [
    "print('I don't understand what are you saying')"
   ]
  },
  {
   "cell_type": "markdown",
   "id": "205e7ac8",
   "metadata": {},
   "source": [
    "ketika menggunakan tanda (') pada kalimat yang ingin ditampilkan, gunakan petik dua (\") agar code tidak error"
   ]
  },
  {
   "cell_type": "code",
   "execution_count": 3,
   "id": "eecd8ec6",
   "metadata": {},
   "outputs": [
    {
     "name": "stdout",
     "output_type": "stream",
     "text": [
      "I don't understand what are you saying\n"
     ]
    }
   ],
   "source": [
    "print(\"I don't understand what are you saying\")"
   ]
  },
  {
   "cell_type": "code",
   "execution_count": 4,
   "id": "3f8092af",
   "metadata": {},
   "outputs": [
    {
     "name": "stdout",
     "output_type": "stream",
     "text": [
      "He is such a \"GENIUS\"\n"
     ]
    }
   ],
   "source": [
    "print('He is such a \"GENIUS\"')"
   ]
  },
  {
   "cell_type": "code",
   "execution_count": null,
   "id": "a9843b9e",
   "metadata": {},
   "outputs": [],
   "source": [
    "print(\"He is such a \"GENIUS\"\")"
   ]
  },
  {
   "cell_type": "markdown",
   "id": "c773104a",
   "metadata": {},
   "source": [
    "gunakan salah satu tanda, petik satu (') atau petik dua (\") tidak boleh ada kedua unsur tersebut dalam satu kondisi"
   ]
  },
  {
   "cell_type": "code",
   "execution_count": 8,
   "id": "c0e5d73d",
   "metadata": {},
   "outputs": [
    {
     "name": "stdout",
     "output_type": "stream",
     "text": [
      "I like to eat kwetiau seafood\n"
     ]
    }
   ],
   "source": [
    "print('I like to eat kwetiau seafood')"
   ]
  },
  {
   "cell_type": "code",
   "execution_count": 9,
   "id": "2bd3ccf4",
   "metadata": {},
   "outputs": [
    {
     "name": "stdout",
     "output_type": "stream",
     "text": [
      "Just keep swimming\n"
     ]
    }
   ],
   "source": [
    "print(\"Just keep swimming\")"
   ]
  },
  {
   "cell_type": "code",
   "execution_count": 10,
   "id": "72213450",
   "metadata": {},
   "outputs": [
    {
     "name": "stdout",
     "output_type": "stream",
     "text": [
      "I love seafood\n"
     ]
    }
   ],
   "source": [
    "print('I love seafood')"
   ]
  },
  {
   "cell_type": "code",
   "execution_count": 11,
   "id": "687e2be7",
   "metadata": {},
   "outputs": [
    {
     "name": "stdout",
     "output_type": "stream",
     "text": [
      "42\n",
      "100000\n",
      "4200000\n"
     ]
    }
   ],
   "source": [
    "mahasiswa = 42\n",
    "uang_di_dompet = 100000\n",
    "print(mahasiswa)\n",
    "print(uang_di_dompet)\n",
    "print(mahasiswa*uang_di_dompet)"
   ]
  },
  {
   "cell_type": "code",
   "execution_count": 12,
   "id": "c0d7d148",
   "metadata": {},
   "outputs": [
    {
     "name": "stdout",
     "output_type": "stream",
     "text": [
      "38\n",
      "2500000\n",
      "95000000\n"
     ]
    }
   ],
   "source": [
    "karyawan = 38\n",
    "gaji_perbulan = 2500000\n",
    "print(karyawan)\n",
    "print(gaji_perbulan)\n",
    "print(karyawan*gaji_perbulan)"
   ]
  },
  {
   "cell_type": "code",
   "execution_count": 13,
   "id": "e7fc85c2",
   "metadata": {},
   "outputs": [
    {
     "name": "stdout",
     "output_type": "stream",
     "text": [
      "15\n",
      "750000\n",
      "11250000\n"
     ]
    }
   ],
   "source": [
    "kost_terisi = 15\n",
    "harga_kost = 750000\n",
    "pemasukan_kost = kost_terisi*harga_kost\n",
    "print(kost_terisi)\n",
    "print(harga_kost)\n",
    "print(pemasukan_kost)"
   ]
  },
  {
   "cell_type": "code",
   "execution_count": 14,
   "id": "1e3a3a5f",
   "metadata": {},
   "outputs": [
    {
     "name": "stdout",
     "output_type": "stream",
     "text": [
      "Luh Putu Deswinta Dharmariani\n"
     ]
    }
   ],
   "source": [
    "nama_depan = 'Luh Putu '\n",
    "nama_tengah = 'Deswinta'\n",
    "nama_belakang = ' Dharmariani'\n",
    "print(nama_depan + nama_tengah + nama_belakang)"
   ]
  },
  {
   "cell_type": "code",
   "execution_count": 15,
   "id": "9a297d69",
   "metadata": {},
   "outputs": [
    {
     "name": "stdout",
     "output_type": "stream",
     "text": [
      "Dharmariani, Deswinta\n"
     ]
    }
   ],
   "source": [
    "nama_depan = 'Deswinta'\n",
    "nama_belakang = 'Dharmariani'\n",
    "print(nama_belakang + ', ' +nama_depan)"
   ]
  },
  {
   "cell_type": "markdown",
   "id": "144a16b4",
   "metadata": {},
   "source": [
    "# 5.2 Input"
   ]
  },
  {
   "cell_type": "code",
   "execution_count": 16,
   "id": "9ce540d9",
   "metadata": {},
   "outputs": [
    {
     "name": "stdout",
     "output_type": "stream",
     "text": [
      "Siapakah nama anda? Deswinta\n",
      "Apakah kegiatan anda sekarang, Deswinta? Kuliah\n",
      "Semangat Kuliah nya yah, Deswinta!\n"
     ]
    }
   ],
   "source": [
    "nama = input(\"Siapakah nama anda? \")\n",
    "kegiatan = input('Apakah kegiatan anda sekarang, ' + nama + \"? \")\n",
    "print(\"Semangat \" + kegiatan + \" nya yah, \" + nama + \"!\" )"
   ]
  },
  {
   "cell_type": "code",
   "execution_count": 18,
   "id": "7dfd45b5",
   "metadata": {
    "scrolled": true
   },
   "outputs": [
    {
     "name": "stdout",
     "output_type": "stream",
     "text": [
      "Kamu kuliah dimana? Udayana\n",
      "Program studi apa tuh? Matematika\n",
      "Wah seru banget kuliah Matematika, kamu yang semangat yaa kuliahnya!\n"
     ]
    }
   ],
   "source": [
    "kuliah = input('Kamu kuliah dimana? ')\n",
    "prodi = input(\"Program studi apa tuh? \")\n",
    "print(\"Wah seru banget kuliah \" + prodi + \", kamu yang semangat yaa kuliahnya!\")"
   ]
  },
  {
   "cell_type": "code",
   "execution_count": 39,
   "id": "42ef176e",
   "metadata": {},
   "outputs": [
    {
     "name": "stdout",
     "output_type": "stream",
     "text": [
      "Biodata mahasiswa Program Studi Matematika Tahun 2022\n",
      "Nama : Deswinta\n",
      "Alamat : Bandung\n",
      "Umur : 18\n",
      "Deswinta\n",
      "Bandung\n",
      "18\n"
     ]
    }
   ],
   "source": [
    "print(\"Biodata mahasiswa Program Studi Matematika Tahun 2022\")\n",
    "nama = input(\"Nama : \")\n",
    "alamat = input(\"Alamat : \")\n",
    "umur = input(\"Umur : \")\n",
    "# mencetak isi variabel\n",
    "print(nama)\n",
    "print(alamat)\n",
    "print(umur)"
   ]
  },
  {
   "cell_type": "markdown",
   "id": "fa03b587",
   "metadata": {},
   "source": [
    "# 5.3 Tipe Data pada Python"
   ]
  },
  {
   "cell_type": "code",
   "execution_count": 20,
   "id": "e95090d4",
   "metadata": {},
   "outputs": [
    {
     "name": "stdout",
     "output_type": "stream",
     "text": [
      "Berapakah jumlah uang di dompet anda? 1000\n",
      "Berapakah jumlah uang anda di Bank? 2000\n",
      "Total uang anda adalah Rp 10002000\n"
     ]
    }
   ],
   "source": [
    "uang_di_dompet = input(\"Berapakah jumlah uang di dompet anda? \")\n",
    "uang_di_bank = input('Berapakah jumlah uang anda di Bank? ')\n",
    "print('Total uang anda adalah Rp ' + uang_di_dompet + uang_di_bank)"
   ]
  },
  {
   "cell_type": "code",
   "execution_count": 22,
   "id": "96d091dc",
   "metadata": {},
   "outputs": [
    {
     "name": "stdout",
     "output_type": "stream",
     "text": [
      "Berapakah jumlah uang di dompet anda? 1000\n",
      "Berapakah jumlah uang anda di Bank? 2000\n",
      "Total uang anda adalah Rp 3000\n"
     ]
    }
   ],
   "source": [
    "uang_di_dompet = input(\"Berapakah jumlah uang di dompet anda? \")\n",
    "uang_di_bank = input('Berapakah jumlah uang anda di Bank? ')\n",
    "total_uang = int(uang_di_dompet) + int(uang_di_bank)\n",
    "print('Total uang anda adalah Rp ' + str(total_uang))"
   ]
  },
  {
   "cell_type": "code",
   "execution_count": 24,
   "id": "796c7667",
   "metadata": {},
   "outputs": [
    {
     "data": {
      "text/plain": [
       "str"
      ]
     },
     "execution_count": 24,
     "metadata": {},
     "output_type": "execute_result"
    }
   ],
   "source": [
    "type(uang_di_dompet)"
   ]
  },
  {
   "cell_type": "code",
   "execution_count": 25,
   "id": "27edc7ed",
   "metadata": {},
   "outputs": [
    {
     "data": {
      "text/plain": [
       "str"
      ]
     },
     "execution_count": 25,
     "metadata": {},
     "output_type": "execute_result"
    }
   ],
   "source": [
    "type(uang_di_bank)"
   ]
  },
  {
   "cell_type": "code",
   "execution_count": 23,
   "id": "33bd226e",
   "metadata": {},
   "outputs": [
    {
     "data": {
      "text/plain": [
       "int"
      ]
     },
     "execution_count": 23,
     "metadata": {},
     "output_type": "execute_result"
    }
   ],
   "source": [
    "type(total_uang)"
   ]
  },
  {
   "cell_type": "code",
   "execution_count": 26,
   "id": "f7560e82",
   "metadata": {},
   "outputs": [
    {
     "name": "stdout",
     "output_type": "stream",
     "text": [
      "Masukkan bilangan pertama: 1\n",
      "Masukkan bilangan kedua: 2\n",
      "Jumlah kedua bilangan adalah 3.0\n"
     ]
    }
   ],
   "source": [
    "bil_satu = input('Masukkan bilangan pertama: ')\n",
    "bil_kedua = input('Masukkan bilangan kedua: ')\n",
    "jumlah = float(bil_satu) + float(bil_kedua)\n",
    "print(\"Jumlah kedua bilangan adalah \"+ str(jumlah))"
   ]
  },
  {
   "cell_type": "code",
   "execution_count": 34,
   "id": "5f3968fb",
   "metadata": {},
   "outputs": [
    {
     "name": "stdout",
     "output_type": "stream",
     "text": [
      "Halo, selamat datang pada cek Nilai Algoritma!\n",
      "Masukkan nilai tugas Individu: 95\n",
      "Masukkan nilai tugas kelompok: 89\n",
      "Masukkan nilai kehadiran: 90\n",
      "Masukkan nilai kuis: 87\n",
      "Masukkan nilai UTS: 88\n",
      "Masukkan nilai UAS: 89\n",
      "Jadi nilai yang didapat pada mata kuliah Algoritma adalah 89.66666666666667\n"
     ]
    }
   ],
   "source": [
    "print(\"Halo, selamat datang pada cek Nilai Algoritma!\")\n",
    "indiv = input('Masukkan nilai tugas Individu: ')\n",
    "klp = input('Masukkan nilai tugas kelompok: ')\n",
    "hadir = input('Masukkan nilai kehadiran: ')\n",
    "kuis = input('Masukkan nilai kuis: ')\n",
    "uts = input('Masukkan nilai UTS: ')\n",
    "uas = input('Masukkan nilai UAS: ')\n",
    "jumlah = float(indiv) + float(klp) + float(hadir) + float(kuis) + float(uts) + float(uas)\n",
    "rata = float(jumlah) / 6\n",
    "print(\"Jadi nilai yang didapat pada mata kuliah Algoritma adalah \" + str(rata))"
   ]
  },
  {
   "cell_type": "markdown",
   "id": "08c310a6",
   "metadata": {},
   "source": [
    "# 5.4 Formatted String"
   ]
  },
  {
   "cell_type": "code",
   "execution_count": 40,
   "id": "70ebd8af",
   "metadata": {},
   "outputs": [
    {
     "name": "stdout",
     "output_type": "stream",
     "text": [
      "Maudy Ayunda tinggal di Jimbaran\n"
     ]
    }
   ],
   "source": [
    "nama = \"Maudy Ayunda\"\n",
    "alamat = 'Jimbaran'\n",
    "print(nama + \" tinggal di \" + alamat)"
   ]
  },
  {
   "cell_type": "code",
   "execution_count": 42,
   "id": "085e3df0",
   "metadata": {},
   "outputs": [
    {
     "name": "stdout",
     "output_type": "stream",
     "text": [
      "Maudy Ayunda tinggal di Jimbaran.\n"
     ]
    }
   ],
   "source": [
    "#mencoba print dengan format yang berbeda\n",
    "nama = \"Maudy Ayunda\"\n",
    "alamat = 'Jimbaran'\n",
    "print(f'{nama} tinggal di {alamat}.')"
   ]
  },
  {
   "cell_type": "code",
   "execution_count": 43,
   "id": "4abf3c97",
   "metadata": {},
   "outputs": [
    {
     "name": "stdout",
     "output_type": "stream",
     "text": [
      "Maudy Ayunda tinggal di Jimbaran.\n"
     ]
    }
   ],
   "source": [
    "#mencoba print dengan format yang berbeda\n",
    "nama = \"Maudy Ayunda\"\n",
    "alamat = 'Jimbaran'\n",
    "print(f\"{nama} tinggal di {alamat}.\")"
   ]
  },
  {
   "cell_type": "code",
   "execution_count": 1,
   "id": "9b70bbd1",
   "metadata": {},
   "outputs": [
    {
     "name": "stdout",
     "output_type": "stream",
     "text": [
      "Maudy Ayunda tinggal di Jimbaran\n"
     ]
    }
   ],
   "source": [
    "nama = \"Maudy Ayunda\"\n",
    "alamat = 'Jimbaran'\n",
    "print(nama + \" tinggal di \" + alamat)"
   ]
  },
  {
   "cell_type": "markdown",
   "id": "3d4f1b34",
   "metadata": {},
   "source": [
    "# 5.5 Strings Index"
   ]
  },
  {
   "cell_type": "code",
   "execution_count": 2,
   "id": "7870cbc8",
   "metadata": {},
   "outputs": [],
   "source": [
    "#menampilkan bagian kalimat yaitu data string menggunakan indexnya, \n",
    "#per huruf yang ditampilkan\n",
    "toko = 'ini toko Bu Desi'"
   ]
  },
  {
   "cell_type": "code",
   "execution_count": 3,
   "id": "fffb4896",
   "metadata": {
    "scrolled": true
   },
   "outputs": [
    {
     "name": "stdout",
     "output_type": "stream",
     "text": [
      "ini\n"
     ]
    }
   ],
   "source": [
    "print(toko[0:3])"
   ]
  },
  {
   "cell_type": "code",
   "execution_count": 4,
   "id": "be36c40e",
   "metadata": {
    "scrolled": true
   },
   "outputs": [
    {
     "name": "stdout",
     "output_type": "stream",
     "text": [
      "i toko Bu De\n"
     ]
    }
   ],
   "source": [
    "print(toko[2:-2])"
   ]
  },
  {
   "cell_type": "code",
   "execution_count": 5,
   "id": "6de4123f",
   "metadata": {},
   "outputs": [
    {
     "name": "stdout",
     "output_type": "stream",
     "text": [
      "oko Bu Des\n"
     ]
    }
   ],
   "source": [
    "print(toko[5:-1])"
   ]
  },
  {
   "cell_type": "code",
   "execution_count": 6,
   "id": "85b9c6c8",
   "metadata": {},
   "outputs": [
    {
     "name": "stdout",
     "output_type": "stream",
     "text": [
      "io  s\n"
     ]
    }
   ],
   "source": [
    "print(toko[2:-1:3])"
   ]
  },
  {
   "cell_type": "code",
   "execution_count": 7,
   "id": "8309afa2",
   "metadata": {},
   "outputs": [
    {
     "name": "stdout",
     "output_type": "stream",
     "text": [
      "ini toko Bu D\n"
     ]
    }
   ],
   "source": [
    "print(toko[:-3])"
   ]
  },
  {
   "cell_type": "code",
   "execution_count": 8,
   "id": "b4a4dda4",
   "metadata": {},
   "outputs": [
    {
     "name": "stdout",
     "output_type": "stream",
     "text": [
      "ni toko Bu Desi\n"
     ]
    }
   ],
   "source": [
    "print(toko[1:])"
   ]
  },
  {
   "cell_type": "code",
   "execution_count": 9,
   "id": "3b810f8d",
   "metadata": {},
   "outputs": [
    {
     "name": "stdout",
     "output_type": "stream",
     "text": [
      "ini toko Bu Desi\n"
     ]
    }
   ],
   "source": [
    "print(toko[:])"
   ]
  },
  {
   "cell_type": "markdown",
   "id": "5e380375",
   "metadata": {},
   "source": [
    "# 5.6 Strings Methods"
   ]
  },
  {
   "cell_type": "code",
   "execution_count": 11,
   "id": "479503bf",
   "metadata": {},
   "outputs": [
    {
     "name": "stdout",
     "output_type": "stream",
     "text": [
      "16\n"
     ]
    }
   ],
   "source": [
    "judul = 'Bali Surga Dunia'\n",
    "print(len(judul))"
   ]
  },
  {
   "cell_type": "markdown",
   "id": "4940ada4",
   "metadata": {},
   "source": [
    "len untuk menghitung jumlah spasi pada tulisan?"
   ]
  },
  {
   "cell_type": "code",
   "execution_count": 12,
   "id": "d93c5f5e",
   "metadata": {},
   "outputs": [
    {
     "data": {
      "text/plain": [
       "'BALI SURGA DUNIA'"
      ]
     },
     "execution_count": 12,
     "metadata": {},
     "output_type": "execute_result"
    }
   ],
   "source": [
    "judul.upper()"
   ]
  },
  {
   "cell_type": "markdown",
   "id": "d559f95c",
   "metadata": {},
   "source": [
    "upper untuk uppercase/membuat tulisan menjadi kapital"
   ]
  },
  {
   "cell_type": "code",
   "execution_count": 13,
   "id": "59276519",
   "metadata": {
    "scrolled": true
   },
   "outputs": [
    {
     "data": {
      "text/plain": [
       "'bali surga dunia'"
      ]
     },
     "execution_count": 13,
     "metadata": {},
     "output_type": "execute_result"
    }
   ],
   "source": [
    "judul.lower()"
   ]
  },
  {
   "cell_type": "markdown",
   "id": "415450cc",
   "metadata": {},
   "source": [
    "lower untuk lowercase tulisan yang dibuat"
   ]
  },
  {
   "cell_type": "code",
   "execution_count": 14,
   "id": "ae3bdaa2",
   "metadata": {},
   "outputs": [
    {
     "data": {
      "text/plain": [
       "5"
      ]
     },
     "execution_count": 14,
     "metadata": {},
     "output_type": "execute_result"
    }
   ],
   "source": [
    "judul.find(\"Surga\")"
   ]
  },
  {
   "cell_type": "code",
   "execution_count": 22,
   "id": "3b94df16",
   "metadata": {},
   "outputs": [
    {
     "data": {
      "text/plain": [
       "-1"
      ]
     },
     "execution_count": 22,
     "metadata": {},
     "output_type": "execute_result"
    }
   ],
   "source": [
    "judul.find('bali')"
   ]
  },
  {
   "cell_type": "code",
   "execution_count": 23,
   "id": "919811ac",
   "metadata": {},
   "outputs": [
    {
     "data": {
      "text/plain": [
       "'Indonesia Surga Dunia'"
      ]
     },
     "execution_count": 23,
     "metadata": {},
     "output_type": "execute_result"
    }
   ],
   "source": [
    "judul.replace('Bali', 'Indonesia')"
   ]
  },
  {
   "cell_type": "code",
   "execution_count": 24,
   "id": "7779422d",
   "metadata": {},
   "outputs": [
    {
     "data": {
      "text/plain": [
       "'Bali Surga Dunia'"
      ]
     },
     "execution_count": 24,
     "metadata": {},
     "output_type": "execute_result"
    }
   ],
   "source": [
    "judul.replace('bali', 'Indonesia')"
   ]
  },
  {
   "cell_type": "code",
   "execution_count": 25,
   "id": "19c2debe",
   "metadata": {},
   "outputs": [
    {
     "name": "stdout",
     "output_type": "stream",
     "text": [
      "True\n"
     ]
    }
   ],
   "source": [
    "print('Bali' in judul)"
   ]
  },
  {
   "cell_type": "code",
   "execution_count": 26,
   "id": "47abc3c0",
   "metadata": {},
   "outputs": [
    {
     "name": "stdout",
     "output_type": "stream",
     "text": [
      "False\n"
     ]
    }
   ],
   "source": [
    "print('bali' in judul)"
   ]
  }
 ],
 "metadata": {
  "kernelspec": {
   "display_name": "Python 3 (ipykernel)",
   "language": "python",
   "name": "python3"
  },
  "language_info": {
   "codemirror_mode": {
    "name": "ipython",
    "version": 3
   },
   "file_extension": ".py",
   "mimetype": "text/x-python",
   "name": "python",
   "nbconvert_exporter": "python",
   "pygments_lexer": "ipython3",
   "version": "3.9.13"
  }
 },
 "nbformat": 4,
 "nbformat_minor": 5
}
