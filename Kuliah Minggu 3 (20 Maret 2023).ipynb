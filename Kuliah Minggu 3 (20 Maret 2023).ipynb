{
 "cells": [
  {
   "cell_type": "markdown",
   "id": "86d850e2",
   "metadata": {},
   "source": [
    "# 5.5 Strings Index"
   ]
  },
  {
   "cell_type": "code",
   "execution_count": 5,
   "id": "204fbb4e",
   "metadata": {},
   "outputs": [
    {
     "name": "stdout",
     "output_type": "stream",
     "text": [
      "Faculty[0]:  F\n",
      "Note[1:4]:  ear\n"
     ]
    }
   ],
   "source": [
    "fac = 'Faculty of Mathematics and Natural Science Udayana University'\n",
    "note = 'Learning Python at Faculty of Mathematics and Natural Science Udayana University'\n",
    "print(\"Faculty[0]: \", fac[0])\n",
    "print(\"Note[1:4]: \", note[1:4])"
   ]
  },
  {
   "cell_type": "code",
   "execution_count": 26,
   "id": "d8292b9f",
   "metadata": {},
   "outputs": [],
   "source": [
    "mystring = 'Python Easy'"
   ]
  },
  {
   "cell_type": "code",
   "execution_count": 27,
   "id": "d2bfd9a7",
   "metadata": {},
   "outputs": [
    {
     "name": "stdout",
     "output_type": "stream",
     "text": [
      "yth\n"
     ]
    }
   ],
   "source": [
    "print(mystring[1:4])"
   ]
  },
  {
   "cell_type": "code",
   "execution_count": 28,
   "id": "ae6ac675",
   "metadata": {},
   "outputs": [
    {
     "name": "stdout",
     "output_type": "stream",
     "text": [
      "h\n"
     ]
    }
   ],
   "source": [
    "print(mystring[3:4])"
   ]
  },
  {
   "cell_type": "code",
   "execution_count": 29,
   "id": "d032c035",
   "metadata": {},
   "outputs": [
    {
     "name": "stdout",
     "output_type": "stream",
     "text": [
      "tho\n"
     ]
    }
   ],
   "source": [
    "print(mystring[2:-6])"
   ]
  },
  {
   "cell_type": "code",
   "execution_count": 35,
   "id": "4b12c5c8",
   "metadata": {},
   "outputs": [
    {
     "name": "stdout",
     "output_type": "stream",
     "text": [
      "tn\n"
     ]
    }
   ],
   "source": [
    "print(mystring[2:-3:3])"
   ]
  },
  {
   "cell_type": "code",
   "execution_count": 36,
   "id": "799ccdee",
   "metadata": {},
   "outputs": [
    {
     "name": "stdout",
     "output_type": "stream",
     "text": [
      "tna\n"
     ]
    }
   ],
   "source": [
    "print(mystring[2:-2:3])"
   ]
  },
  {
   "cell_type": "code",
   "execution_count": 37,
   "id": "daca685a",
   "metadata": {},
   "outputs": [
    {
     "name": "stdout",
     "output_type": "stream",
     "text": [
      "\n"
     ]
    }
   ],
   "source": [
    "print(mystring[2:-2:-1])"
   ]
  },
  {
   "cell_type": "raw",
   "id": "dd0e6f37",
   "metadata": {},
   "source": [
    "untuk indeks pertama, berjalan dari kiri\n",
    "indeks kedua, berjalan dari kanan\n",
    "indeks ketiga, loncatan dari hasil indeks pertama, indeks ketiga tidak bisa minus (-)\n",
    "contoh :\n",
    "mystring = 'Python Easy'\n",
    "print(mystring[2:-3:3])\n",
    "P    y   t  h  o  n     E  a  s  y\n",
    "0    1   2  3  4  5  6  7  8  9  10\n",
    "-11 -10 -9 -8 -7 -6 -5 -4 -3 -2  -1\n",
    "\n",
    "maka, output menjadi\n",
    "2 = n, -3 = a, 3 = meloncat dari indeks 2 sebanyak 3, yaitu n dan a, namun a tidak ikut karena indeks kedua"
   ]
  },
  {
   "cell_type": "markdown",
   "id": "2e05fa33",
   "metadata": {},
   "source": [
    "# 5.6 Strings Methods"
   ]
  },
  {
   "cell_type": "code",
   "execution_count": 63,
   "id": "539bc6aa",
   "metadata": {},
   "outputs": [
    {
     "name": "stdout",
     "output_type": "stream",
     "text": [
      "21\n"
     ]
    }
   ],
   "source": [
    "judul = \"Pluto is not a planet\"\n",
    "print(len(judul))"
   ]
  },
  {
   "cell_type": "markdown",
   "id": "edd64fc6",
   "metadata": {},
   "source": [
    "len digunakan untuk menghitung jumlah kata dan spasi"
   ]
  },
  {
   "cell_type": "code",
   "execution_count": 40,
   "id": "ee5cf580",
   "metadata": {},
   "outputs": [
    {
     "data": {
      "text/plain": [
       "'PLUTO IS NOT A PLANET'"
      ]
     },
     "execution_count": 40,
     "metadata": {},
     "output_type": "execute_result"
    }
   ],
   "source": [
    "judul.upper()"
   ]
  },
  {
   "cell_type": "markdown",
   "id": "e237bb34",
   "metadata": {},
   "source": [
    "upper untuk uppercase/membuat tulisan menjadi kapital"
   ]
  },
  {
   "cell_type": "code",
   "execution_count": 41,
   "id": "42e2ebea",
   "metadata": {},
   "outputs": [
    {
     "data": {
      "text/plain": [
       "'pluto is not a planet'"
      ]
     },
     "execution_count": 41,
     "metadata": {},
     "output_type": "execute_result"
    }
   ],
   "source": [
    "judul.lower()"
   ]
  },
  {
   "cell_type": "markdown",
   "id": "79054f1c",
   "metadata": {},
   "source": [
    "lower untuk lowercase/membuat tulisan menjadi huruf kecil"
   ]
  },
  {
   "cell_type": "code",
   "execution_count": 42,
   "id": "8422be4d",
   "metadata": {},
   "outputs": [
    {
     "data": {
      "text/plain": [
       "15"
      ]
     },
     "execution_count": 42,
     "metadata": {},
     "output_type": "execute_result"
    }
   ],
   "source": [
    "judul.find('planet')"
   ]
  },
  {
   "cell_type": "code",
   "execution_count": 50,
   "id": "bcd312a6",
   "metadata": {},
   "outputs": [
    {
     "data": {
      "text/plain": [
       "6"
      ]
     },
     "execution_count": 50,
     "metadata": {},
     "output_type": "execute_result"
    }
   ],
   "source": [
    "judul.find('is')"
   ]
  },
  {
   "cell_type": "raw",
   "id": "7dde4999",
   "metadata": {},
   "source": [
    "python memiliki case sensitif,\n",
    "ketika kata yang dicari tidak sesuai dengan data yang ada, \n",
    "maka akan menghasilkan -1"
   ]
  },
  {
   "cell_type": "code",
   "execution_count": 51,
   "id": "9bacafb7",
   "metadata": {},
   "outputs": [
    {
     "data": {
      "text/plain": [
       "-1"
      ]
     },
     "execution_count": 51,
     "metadata": {},
     "output_type": "execute_result"
    }
   ],
   "source": [
    "judul.find('IS')"
   ]
  },
  {
   "cell_type": "code",
   "execution_count": 52,
   "id": "ebae2294",
   "metadata": {},
   "outputs": [
    {
     "data": {
      "text/plain": [
       "-1"
      ]
     },
     "execution_count": 52,
     "metadata": {},
     "output_type": "execute_result"
    }
   ],
   "source": [
    "judul.find('PLuto')"
   ]
  },
  {
   "cell_type": "code",
   "execution_count": 53,
   "id": "436521c1",
   "metadata": {},
   "outputs": [
    {
     "data": {
      "text/plain": [
       "-1"
      ]
     },
     "execution_count": 53,
     "metadata": {},
     "output_type": "execute_result"
    }
   ],
   "source": [
    "judul.find('PLUP')"
   ]
  },
  {
   "cell_type": "raw",
   "id": "9361f80c",
   "metadata": {},
   "source": [
    "python memiliki case sensitif,\n",
    "ketika kata yang dimasukkan tidak sesuai dengan data yang ada\n",
    "maka, apapun inputnya tidak berjalan."
   ]
  },
  {
   "cell_type": "code",
   "execution_count": 54,
   "id": "24581624",
   "metadata": {},
   "outputs": [
    {
     "data": {
      "text/plain": [
       "'Venus is not a planet'"
      ]
     },
     "execution_count": 54,
     "metadata": {},
     "output_type": "execute_result"
    }
   ],
   "source": [
    "judul.replace('Pluto', 'Venus')"
   ]
  },
  {
   "cell_type": "code",
   "execution_count": 55,
   "id": "042b98d3",
   "metadata": {},
   "outputs": [
    {
     "data": {
      "text/plain": [
       "'Pluto is not a planet'"
      ]
     },
     "execution_count": 55,
     "metadata": {},
     "output_type": "execute_result"
    }
   ],
   "source": [
    "judul.replace('pluto', 'Venus')"
   ]
  },
  {
   "cell_type": "raw",
   "id": "42c04523",
   "metadata": {},
   "source": [
    "python memiliki case sensitif,\n",
    "ketika kata yang dimasukkan tidak sesuai dengan data yang ada\n",
    "termasuk perbedaan kapitalisasi\n",
    "maka, apapun inputnya tidak berjalan."
   ]
  },
  {
   "cell_type": "code",
   "execution_count": 57,
   "id": "48283cfd",
   "metadata": {},
   "outputs": [
    {
     "name": "stdout",
     "output_type": "stream",
     "text": [
      "True\n"
     ]
    }
   ],
   "source": [
    "print('planet' in judul)"
   ]
  },
  {
   "cell_type": "code",
   "execution_count": 58,
   "id": "fd169004",
   "metadata": {},
   "outputs": [
    {
     "name": "stdout",
     "output_type": "stream",
     "text": [
      "False\n"
     ]
    }
   ],
   "source": [
    "print('Planet' in judul)"
   ]
  },
  {
   "cell_type": "markdown",
   "id": "f3dbc359",
   "metadata": {},
   "source": [
    "# 5.7 Operasi Matematika di Python"
   ]
  },
  {
   "cell_type": "code",
   "execution_count": 83,
   "id": "95cae9db",
   "metadata": {},
   "outputs": [
    {
     "name": "stdout",
     "output_type": "stream",
     "text": [
      "Masukkan nilai a:17\n",
      "Masukkan nilai b:4\n"
     ]
    }
   ],
   "source": [
    "a = input(\"Masukkan nilai a:\")\n",
    "b = input(\"Masukkan nilai b:\")"
   ]
  },
  {
   "cell_type": "code",
   "execution_count": 84,
   "id": "e05171c5",
   "metadata": {},
   "outputs": [
    {
     "name": "stdout",
     "output_type": "stream",
     "text": [
      "21.0\n",
      "13.0\n",
      "68.0\n",
      "4.25\n",
      "4.0\n",
      "1.0\n",
      "83521.0\n"
     ]
    }
   ],
   "source": [
    "# Operator penjumlahan\n",
    "print(float(a) + float(b))\n",
    "\n",
    "# Operator pengurangan\n",
    "print(float(a) - float(b))\n",
    "\n",
    "# Operator perkalian\n",
    "print(float(a) * float(b))\n",
    "\n",
    "# Operator pembagian\n",
    "print(float(a) / float(b))\n",
    "\n",
    "# Operator pembulatan pembagian\n",
    "print(float(a) // float(b))\n",
    "\n",
    "# Operator sisa bagi/modulo\n",
    "print(float(a) % float(b))\n",
    "\n",
    "# Operator pangkat\n",
    "print(float(a) ** float(b))"
   ]
  },
  {
   "cell_type": "code",
   "execution_count": 98,
   "id": "031f29a2",
   "metadata": {
    "scrolled": false
   },
   "outputs": [
    {
     "name": "stdout",
     "output_type": "stream",
     "text": [
      "9\n",
      "-1\n",
      "10\n"
     ]
    }
   ],
   "source": [
    "#Augmented operator\n",
    "x = 3\n",
    "y = 2\n",
    "z = 5\n",
    "x+=6\n",
    "y-=3\n",
    "z*=2\n",
    "print(x)\n",
    "print(y)\n",
    "print(z)"
   ]
  },
  {
   "cell_type": "markdown",
   "id": "50c1e335",
   "metadata": {},
   "source": [
    "# 5.8 Operator Perbandingan di Python"
   ]
  },
  {
   "cell_type": "code",
   "execution_count": 118,
   "id": "f90eee19",
   "metadata": {},
   "outputs": [
    {
     "name": "stdout",
     "output_type": "stream",
     "text": [
      "False\n",
      "-1\n"
     ]
    }
   ],
   "source": [
    "x = 2>4\n",
    "print(x)\n",
    "print(~x)"
   ]
  },
  {
   "cell_type": "code",
   "execution_count": 117,
   "id": "6c55f4e2",
   "metadata": {},
   "outputs": [
    {
     "name": "stdout",
     "output_type": "stream",
     "text": [
      "True\n",
      "-2\n"
     ]
    }
   ],
   "source": [
    "x = 2<4\n",
    "print(x)\n",
    "print(~x)"
   ]
  },
  {
   "cell_type": "code",
   "execution_count": 115,
   "id": "b0e36552",
   "metadata": {},
   "outputs": [
    {
     "name": "stdout",
     "output_type": "stream",
     "text": [
      "False\n",
      "-1\n"
     ]
    }
   ],
   "source": [
    "x = 2>=4\n",
    "print(x)\n",
    "print(~x)"
   ]
  },
  {
   "cell_type": "code",
   "execution_count": 116,
   "id": "fb505022",
   "metadata": {},
   "outputs": [
    {
     "name": "stdout",
     "output_type": "stream",
     "text": [
      "True\n",
      "-2\n"
     ]
    }
   ],
   "source": [
    "x = 2<=4\n",
    "print(x)\n",
    "print(~x)"
   ]
  },
  {
   "cell_type": "code",
   "execution_count": 110,
   "id": "7ad00bb3",
   "metadata": {},
   "outputs": [
    {
     "name": "stdout",
     "output_type": "stream",
     "text": [
      "False\n",
      "-1\n"
     ]
    }
   ],
   "source": [
    "x = 2==4\n",
    "print(x)\n",
    "print(~x)"
   ]
  },
  {
   "cell_type": "code",
   "execution_count": 112,
   "id": "42ae2b1b",
   "metadata": {},
   "outputs": [
    {
     "name": "stdout",
     "output_type": "stream",
     "text": [
      "True\n",
      "-2\n"
     ]
    }
   ],
   "source": [
    "x = 2!=4\n",
    "print(x)\n",
    "print(~x)"
   ]
  },
  {
   "cell_type": "markdown",
   "id": "89e4bcdc",
   "metadata": {},
   "source": [
    "# 5.9 Operator Logika di Python"
   ]
  },
  {
   "cell_type": "code",
   "execution_count": 122,
   "id": "54d583f5",
   "metadata": {},
   "outputs": [
    {
     "name": "stdout",
     "output_type": "stream",
     "text": [
      "False\n"
     ]
    }
   ],
   "source": [
    "starfruit = 7\n",
    "mango = 4\n",
    "print(starfruit > 8 and mango < 12)"
   ]
  },
  {
   "cell_type": "code",
   "execution_count": 123,
   "id": "2cacb916",
   "metadata": {},
   "outputs": [
    {
     "name": "stdout",
     "output_type": "stream",
     "text": [
      "True\n"
     ]
    }
   ],
   "source": [
    "print(starfruit > 8 or mango < 12)"
   ]
  },
  {
   "cell_type": "code",
   "execution_count": 125,
   "id": "d6117287",
   "metadata": {},
   "outputs": [
    {
     "name": "stdout",
     "output_type": "stream",
     "text": [
      "True\n"
     ]
    }
   ],
   "source": [
    "print(starfruit < 8 or mango > 12)"
   ]
  },
  {
   "cell_type": "code",
   "execution_count": 126,
   "id": "19e89d7c",
   "metadata": {},
   "outputs": [
    {
     "name": "stdout",
     "output_type": "stream",
     "text": [
      "True\n"
     ]
    }
   ],
   "source": [
    "print(not(starfruit > 8 and mango < 12))"
   ]
  },
  {
   "cell_type": "markdown",
   "id": "d80a658e",
   "metadata": {},
   "source": [
    "# 5.10 Operator if di Python"
   ]
  },
  {
   "cell_type": "code",
   "execution_count": 128,
   "id": "3eb07ed0",
   "metadata": {},
   "outputs": [
    {
     "name": "stdout",
     "output_type": "stream",
     "text": [
      "Your grade is 55\n",
      "You got a E grade\n",
      "Noo!\n"
     ]
    }
   ],
   "source": [
    "grade = float(input(\"Your grade is \"))\n",
    "if grade >= 80:\n",
    "    print(\"You got an A grade\")\n",
    "    print(\"Amazing, congratulation!\")\n",
    "if grade < 80 and grade >= 70:\n",
    "    print(\"You got a B grade\")\n",
    "    print(\"Keep it up!\")\n",
    "if grade < 70 and grade >= 60:\n",
    "    print(\"You got a C grade\")\n",
    "    print(\"Lets goo!\")\n",
    "if grade < 70 and grade >= 60:\n",
    "    print(\"You got a D grade\")\n",
    "    print(\"Huft!\")\n",
    "if grade < 60 and grade >= 50:\n",
    "    print(\"You got a E grade\")\n",
    "    print(\"Noo!\")"
   ]
  }
 ],
 "metadata": {
  "kernelspec": {
   "display_name": "Python 3 (ipykernel)",
   "language": "python",
   "name": "python3"
  },
  "language_info": {
   "codemirror_mode": {
    "name": "ipython",
    "version": 3
   },
   "file_extension": ".py",
   "mimetype": "text/x-python",
   "name": "python",
   "nbconvert_exporter": "python",
   "pygments_lexer": "ipython3",
   "version": "3.9.13"
  }
 },
 "nbformat": 4,
 "nbformat_minor": 5
}
